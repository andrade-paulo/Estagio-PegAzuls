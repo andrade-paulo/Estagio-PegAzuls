{
 "cells": [
  {
   "cell_type": "markdown",
   "id": "7a2311d0-5497-4126-9774-fe42f3c00458",
   "metadata": {
    "tags": []
   },
   "source": [
    "# Python e Pandas"
   ]
  },
  {
   "cell_type": "code",
   "execution_count": 1,
   "id": "6250de2a-7a94-4b15-8f0f-d6b349ddb3eb",
   "metadata": {
    "tags": []
   },
   "outputs": [],
   "source": [
    "import pandas as pd"
   ]
  },
  {
   "cell_type": "markdown",
   "id": "a3276a01-58f4-42b7-b4db-6b7373d7ee0c",
   "metadata": {
    "tags": []
   },
   "source": [
    "# Asa"
   ]
  },
  {
   "cell_type": "code",
   "execution_count": 2,
   "id": "8a96420b-5930-4bf9-8c13-35b0af56de97",
   "metadata": {
    "tags": []
   },
   "outputs": [],
   "source": [
    "dados_das_asas = pd.read_excel(\"DFWing.xlsx\", \"Página1\")"
   ]
  },
  {
   "cell_type": "code",
   "execution_count": 3,
   "id": "c68b1b1c-0f19-48d6-8d9c-e016a1fca63e",
   "metadata": {
    "tags": []
   },
   "outputs": [],
   "source": [
    "dataframe_asas = pd.DataFrame(dados_das_asas)"
   ]
  },
  {
   "cell_type": "markdown",
   "id": "db245896-ce18-4bee-bf08-37c84c4fb5d3",
   "metadata": {
    "tags": []
   },
   "source": [
    "## Análise dos dados"
   ]
  },
  {
   "cell_type": "markdown",
   "id": "748ebdc8-afce-47ea-835c-08d426980f61",
   "metadata": {},
   "source": [
    "**Três maiores Cl de perfis de asa:**"
   ]
  },
  {
   "cell_type": "code",
   "execution_count": 4,
   "id": "bd0d2bf2-833a-475b-9a7e-c03c72d24f8e",
   "metadata": {
    "tags": []
   },
   "outputs": [
    {
     "data": {
      "text/html": [
       "<div>\n",
       "<style scoped>\n",
       "    .dataframe tbody tr th:only-of-type {\n",
       "        vertical-align: middle;\n",
       "    }\n",
       "\n",
       "    .dataframe tbody tr th {\n",
       "        vertical-align: top;\n",
       "    }\n",
       "\n",
       "    .dataframe thead th {\n",
       "        text-align: right;\n",
       "    }\n",
       "</style>\n",
       "<table border=\"1\" class=\"dataframe\">\n",
       "  <thead>\n",
       "    <tr style=\"text-align: right;\">\n",
       "      <th></th>\n",
       "      <th>tipo</th>\n",
       "      <th>nome</th>\n",
       "      <th>alpha</th>\n",
       "      <th>CL</th>\n",
       "      <th>CD</th>\n",
       "      <th>CDp</th>\n",
       "      <th>CM</th>\n",
       "      <th>Top_Xtr</th>\n",
       "      <th>Bot_Xtr</th>\n",
       "    </tr>\n",
       "  </thead>\n",
       "  <tbody>\n",
       "    <tr>\n",
       "      <th>89</th>\n",
       "      <td>asa</td>\n",
       "      <td>selig 1223 rtl</td>\n",
       "      <td>17.25</td>\n",
       "      <td>2.4072</td>\n",
       "      <td>0.05989</td>\n",
       "      <td>0.05562</td>\n",
       "      <td>-0.1708</td>\n",
       "      <td>0.2031</td>\n",
       "      <td>1.0</td>\n",
       "    </tr>\n",
       "    <tr>\n",
       "      <th>88</th>\n",
       "      <td>asa</td>\n",
       "      <td>selig 1223 rtl</td>\n",
       "      <td>17.00</td>\n",
       "      <td>2.4061</td>\n",
       "      <td>0.05746</td>\n",
       "      <td>0.05310</td>\n",
       "      <td>-0.1721</td>\n",
       "      <td>0.2067</td>\n",
       "      <td>1.0</td>\n",
       "    </tr>\n",
       "    <tr>\n",
       "      <th>90</th>\n",
       "      <td>asa</td>\n",
       "      <td>selig 1223 rtl</td>\n",
       "      <td>17.50</td>\n",
       "      <td>2.4041</td>\n",
       "      <td>0.06289</td>\n",
       "      <td>0.05868</td>\n",
       "      <td>-0.1695</td>\n",
       "      <td>0.1998</td>\n",
       "      <td>1.0</td>\n",
       "    </tr>\n",
       "  </tbody>\n",
       "</table>\n",
       "</div>"
      ],
      "text/plain": [
       "   tipo            nome  alpha      CL       CD      CDp      CM  Top_Xtr  \\\n",
       "89  asa  selig 1223 rtl  17.25  2.4072  0.05989  0.05562 -0.1708   0.2031   \n",
       "88  asa  selig 1223 rtl  17.00  2.4061  0.05746  0.05310 -0.1721   0.2067   \n",
       "90  asa  selig 1223 rtl  17.50  2.4041  0.06289  0.05868 -0.1695   0.1998   \n",
       "\n",
       "    Bot_Xtr  \n",
       "89      1.0  \n",
       "88      1.0  \n",
       "90      1.0  "
      ]
     },
     "execution_count": 4,
     "metadata": {},
     "output_type": "execute_result"
    }
   ],
   "source": [
    "dataframe_asas.nlargest(3, \"CL\")"
   ]
  },
  {
   "cell_type": "markdown",
   "id": "36960baa-0272-4cda-8422-9d5e64ffa3e8",
   "metadata": {},
   "source": [
    "**Três menores Cd de perfis de asa**"
   ]
  },
  {
   "cell_type": "code",
   "execution_count": 5,
   "id": "83add9b4-bc88-4a39-8ec2-644b588129ba",
   "metadata": {
    "tags": []
   },
   "outputs": [
    {
     "data": {
      "text/html": [
       "<div>\n",
       "<style scoped>\n",
       "    .dataframe tbody tr th:only-of-type {\n",
       "        vertical-align: middle;\n",
       "    }\n",
       "\n",
       "    .dataframe tbody tr th {\n",
       "        vertical-align: top;\n",
       "    }\n",
       "\n",
       "    .dataframe thead th {\n",
       "        text-align: right;\n",
       "    }\n",
       "</style>\n",
       "<table border=\"1\" class=\"dataframe\">\n",
       "  <thead>\n",
       "    <tr style=\"text-align: right;\">\n",
       "      <th></th>\n",
       "      <th>tipo</th>\n",
       "      <th>nome</th>\n",
       "      <th>alpha</th>\n",
       "      <th>CL</th>\n",
       "      <th>CD</th>\n",
       "      <th>CDp</th>\n",
       "      <th>CM</th>\n",
       "      <th>Top_Xtr</th>\n",
       "      <th>Bot_Xtr</th>\n",
       "    </tr>\n",
       "  </thead>\n",
       "  <tbody>\n",
       "    <tr>\n",
       "      <th>287</th>\n",
       "      <td>asa</td>\n",
       "      <td>FX 63-137</td>\n",
       "      <td>-1.50</td>\n",
       "      <td>0.7454</td>\n",
       "      <td>0.00856</td>\n",
       "      <td>0.00276</td>\n",
       "      <td>-0.2071</td>\n",
       "      <td>0.6975</td>\n",
       "      <td>0.4144</td>\n",
       "    </tr>\n",
       "    <tr>\n",
       "      <th>288</th>\n",
       "      <td>asa</td>\n",
       "      <td>FX 63-137</td>\n",
       "      <td>-1.25</td>\n",
       "      <td>0.7746</td>\n",
       "      <td>0.00856</td>\n",
       "      <td>0.00280</td>\n",
       "      <td>-0.2073</td>\n",
       "      <td>0.6911</td>\n",
       "      <td>0.4429</td>\n",
       "    </tr>\n",
       "    <tr>\n",
       "      <th>286</th>\n",
       "      <td>asa</td>\n",
       "      <td>FX 63-137</td>\n",
       "      <td>-1.75</td>\n",
       "      <td>0.7160</td>\n",
       "      <td>0.00858</td>\n",
       "      <td>0.00274</td>\n",
       "      <td>-0.2068</td>\n",
       "      <td>0.7041</td>\n",
       "      <td>0.3771</td>\n",
       "    </tr>\n",
       "  </tbody>\n",
       "</table>\n",
       "</div>"
      ],
      "text/plain": [
       "    tipo       nome  alpha      CL       CD      CDp      CM  Top_Xtr  Bot_Xtr\n",
       "287  asa  FX 63-137  -1.50  0.7454  0.00856  0.00276 -0.2071   0.6975   0.4144\n",
       "288  asa  FX 63-137  -1.25  0.7746  0.00856  0.00280 -0.2073   0.6911   0.4429\n",
       "286  asa  FX 63-137  -1.75  0.7160  0.00858  0.00274 -0.2068   0.7041   0.3771"
      ]
     },
     "execution_count": 5,
     "metadata": {},
     "output_type": "execute_result"
    }
   ],
   "source": [
    "dataframe_asas.nsmallest(3, \"CD\")"
   ]
  },
  {
   "cell_type": "markdown",
   "id": "abfa2206-1605-4f0e-838f-8dc319e10277",
   "metadata": {},
   "source": [
    "**Melhor perfil para asa levando em consideração o Cl e o Cd**"
   ]
  },
  {
   "cell_type": "markdown",
   "id": "f8076750-1492-404d-89b5-4132f3c8ad61",
   "metadata": {},
   "source": [
    "A eficiência aerodinâmica em relação ao coeficiente de sustentação (Cl), coeficiente de arrasto (Cd) e ao ângulo de ataque (a), é determinado por: *Cl / Cd*. (Fundamentos da Engenharia"
   ]
  },
  {
   "cell_type": "code",
   "execution_count": 6,
   "id": "0f6a6e8e-4e47-477d-9ff9-30421c8bf6af",
   "metadata": {
    "tags": []
   },
   "outputs": [],
   "source": [
    "dataframe_asas[\"eficiencia_CL_CD\"] = dataframe_asas[\"CL\"] / dataframe_asas[\"CD\"]"
   ]
  },
  {
   "cell_type": "code",
   "execution_count": 7,
   "id": "ccc51b6d-f1ef-43c9-878c-d18e2373d858",
   "metadata": {
    "tags": []
   },
   "outputs": [
    {
     "data": {
      "text/html": [
       "<div>\n",
       "<style scoped>\n",
       "    .dataframe tbody tr th:only-of-type {\n",
       "        vertical-align: middle;\n",
       "    }\n",
       "\n",
       "    .dataframe tbody tr th {\n",
       "        vertical-align: top;\n",
       "    }\n",
       "\n",
       "    .dataframe thead th {\n",
       "        text-align: right;\n",
       "    }\n",
       "</style>\n",
       "<table border=\"1\" class=\"dataframe\">\n",
       "  <thead>\n",
       "    <tr style=\"text-align: right;\">\n",
       "      <th></th>\n",
       "      <th>tipo</th>\n",
       "      <th>nome</th>\n",
       "      <th>alpha</th>\n",
       "      <th>CL</th>\n",
       "      <th>CD</th>\n",
       "      <th>CDp</th>\n",
       "      <th>CM</th>\n",
       "      <th>Top_Xtr</th>\n",
       "      <th>Bot_Xtr</th>\n",
       "      <th>eficiencia_CL_CD</th>\n",
       "    </tr>\n",
       "  </thead>\n",
       "  <tbody>\n",
       "    <tr>\n",
       "      <th>226</th>\n",
       "      <td>asa</td>\n",
       "      <td>eppler 423</td>\n",
       "      <td>5.5</td>\n",
       "      <td>1.6587</td>\n",
       "      <td>0.01344</td>\n",
       "      <td>0.00757</td>\n",
       "      <td>-0.2279</td>\n",
       "      <td>0.5282</td>\n",
       "      <td>1.0</td>\n",
       "      <td>123.415179</td>\n",
       "    </tr>\n",
       "  </tbody>\n",
       "</table>\n",
       "</div>"
      ],
      "text/plain": [
       "    tipo        nome  alpha      CL       CD      CDp      CM  Top_Xtr  \\\n",
       "226  asa  eppler 423    5.5  1.6587  0.01344  0.00757 -0.2279   0.5282   \n",
       "\n",
       "     Bot_Xtr  eficiencia_CL_CD  \n",
       "226      1.0        123.415179  "
      ]
     },
     "execution_count": 7,
     "metadata": {},
     "output_type": "execute_result"
    }
   ],
   "source": [
    "dataframe_asas.query(\"eficiencia_CL_CD == eficiencia_CL_CD.max()\")\n",
    "# Procura pelo maior valor na coluna coeficiente e retorna a linha inteira"
   ]
  },
  {
   "cell_type": "markdown",
   "id": "04f7287f-b7c7-4ac8-a053-0090b570c690",
   "metadata": {
    "tags": []
   },
   "source": [
    "**Organização do dataframe de asas**"
   ]
  },
  {
   "cell_type": "code",
   "execution_count": 17,
   "id": "888120c7-06ba-4169-9c71-6a02ab3d5c64",
   "metadata": {
    "tags": []
   },
   "outputs": [],
   "source": [
    "dataframe_asas.sort_values(by=['eficiencia_CL_CD'], ascending=False, inplace=True)"
   ]
  },
  {
   "cell_type": "markdown",
   "id": "d912c268-942f-4bc1-9a5f-2a2c65aa1ff9",
   "metadata": {
    "tags": []
   },
   "source": [
    "# Empenagem"
   ]
  },
  {
   "cell_type": "code",
   "execution_count": 9,
   "id": "8854dc27-f069-4c6f-ab08-260e9ef50552",
   "metadata": {
    "tags": []
   },
   "outputs": [],
   "source": [
    "dados_das_empenagens = pd.read_excel(\"DFEmpennage.xlsx\", \"Página1\")"
   ]
  },
  {
   "cell_type": "code",
   "execution_count": 10,
   "id": "755449de-76bf-4d7b-aa93-c2debe080ed3",
   "metadata": {
    "tags": []
   },
   "outputs": [],
   "source": [
    "dataframe_empenagens = pd.DataFrame(dados_das_empenagens)"
   ]
  },
  {
   "cell_type": "markdown",
   "id": "58ca5bec-cd68-4470-bef6-8e254011b09c",
   "metadata": {},
   "source": [
    "## Análise de Dados"
   ]
  },
  {
   "cell_type": "markdown",
   "id": "0837e9fb-1f5c-4794-9589-526cb9579356",
   "metadata": {},
   "source": [
    "**Três menores Cl de perfis de empenagem**"
   ]
  },
  {
   "cell_type": "code",
   "execution_count": 11,
   "id": "47297396-1901-463f-ac3b-d4cee8d908e6",
   "metadata": {
    "tags": []
   },
   "outputs": [
    {
     "data": {
      "text/html": [
       "<div>\n",
       "<style scoped>\n",
       "    .dataframe tbody tr th:only-of-type {\n",
       "        vertical-align: middle;\n",
       "    }\n",
       "\n",
       "    .dataframe tbody tr th {\n",
       "        vertical-align: top;\n",
       "    }\n",
       "\n",
       "    .dataframe thead th {\n",
       "        text-align: right;\n",
       "    }\n",
       "</style>\n",
       "<table border=\"1\" class=\"dataframe\">\n",
       "  <thead>\n",
       "    <tr style=\"text-align: right;\">\n",
       "      <th></th>\n",
       "      <th>tipo</th>\n",
       "      <th>nome</th>\n",
       "      <th>alpha</th>\n",
       "      <th>CL</th>\n",
       "      <th>CD</th>\n",
       "      <th>CDp</th>\n",
       "      <th>CM</th>\n",
       "      <th>Top_Xtr</th>\n",
       "      <th>Bot_Xtr</th>\n",
       "    </tr>\n",
       "  </thead>\n",
       "  <tbody>\n",
       "    <tr>\n",
       "      <th>160</th>\n",
       "      <td>empenagem</td>\n",
       "      <td>naca 0012</td>\n",
       "      <td>-5.00</td>\n",
       "      <td>-0.6274</td>\n",
       "      <td>0.01036</td>\n",
       "      <td>0.00414</td>\n",
       "      <td>0.0125</td>\n",
       "      <td>0.9985</td>\n",
       "      <td>0.1775</td>\n",
       "    </tr>\n",
       "    <tr>\n",
       "      <th>0</th>\n",
       "      <td>empenagem</td>\n",
       "      <td>naca 009</td>\n",
       "      <td>-5.00</td>\n",
       "      <td>-0.6239</td>\n",
       "      <td>0.01121</td>\n",
       "      <td>0.00461</td>\n",
       "      <td>0.0144</td>\n",
       "      <td>1.0000</td>\n",
       "      <td>0.0637</td>\n",
       "    </tr>\n",
       "    <tr>\n",
       "      <th>1</th>\n",
       "      <td>empenagem</td>\n",
       "      <td>naca 009</td>\n",
       "      <td>-4.75</td>\n",
       "      <td>-0.6024</td>\n",
       "      <td>0.01098</td>\n",
       "      <td>0.00432</td>\n",
       "      <td>0.0156</td>\n",
       "      <td>1.0000</td>\n",
       "      <td>0.0675</td>\n",
       "    </tr>\n",
       "  </tbody>\n",
       "</table>\n",
       "</div>"
      ],
      "text/plain": [
       "          tipo       nome  alpha      CL       CD      CDp      CM  Top_Xtr  \\\n",
       "160  empenagem  naca 0012  -5.00 -0.6274  0.01036  0.00414  0.0125   0.9985   \n",
       "0    empenagem   naca 009  -5.00 -0.6239  0.01121  0.00461  0.0144   1.0000   \n",
       "1    empenagem   naca 009  -4.75 -0.6024  0.01098  0.00432  0.0156   1.0000   \n",
       "\n",
       "     Bot_Xtr  \n",
       "160   0.1775  \n",
       "0     0.0637  \n",
       "1     0.0675  "
      ]
     },
     "execution_count": 11,
     "metadata": {},
     "output_type": "execute_result"
    }
   ],
   "source": [
    "dataframe_empenagens.nsmallest(3, \"CL\")"
   ]
  },
  {
   "cell_type": "markdown",
   "id": "abb4548a-1859-4450-89e5-4bab494f5d7b",
   "metadata": {
    "tags": []
   },
   "source": [
    "**Organização do dataframe de empenagem**"
   ]
  },
  {
   "cell_type": "code",
   "execution_count": 16,
   "id": "20c5246a-42b6-49a8-ad67-a92aabb24858",
   "metadata": {
    "tags": []
   },
   "outputs": [],
   "source": [
    "dataframe_empenagens.sort_values(by=['CL'], inplace=True)"
   ]
  },
  {
   "cell_type": "markdown",
   "id": "bf31f34f-ec78-4e16-8438-d5e2577978aa",
   "metadata": {},
   "source": [
    "# Registro das Análises"
   ]
  },
  {
   "cell_type": "code",
   "execution_count": 25,
   "id": "d3dde4d6-d0bf-497a-9697-716faa4d8598",
   "metadata": {},
   "outputs": [],
   "source": [
    "planilha = pd.ExcelWriter('planilha_final.xlsx', engine='xlsxwriter')"
   ]
  },
  {
   "cell_type": "code",
   "execution_count": 26,
   "id": "08f0a320-e8e7-4903-bcbc-5851b208da67",
   "metadata": {
    "tags": []
   },
   "outputs": [],
   "source": [
    "dataframe_asas.to_excel(planilha, sheet_name='Asas', index=False)"
   ]
  },
  {
   "cell_type": "code",
   "execution_count": 27,
   "id": "7ed93d4a-f83f-4537-b1ff-d96f12c93626",
   "metadata": {
    "tags": []
   },
   "outputs": [],
   "source": [
    "dataframe_empenagens.to_excel(planilha, sheet_name='Empenagens', index=False)"
   ]
  },
  {
   "cell_type": "code",
   "execution_count": 28,
   "id": "db2a1b74-eda5-4c0d-ac3a-a23c53b955f3",
   "metadata": {
    "tags": []
   },
   "outputs": [],
   "source": [
    "planilha.save()"
   ]
  },
  {
   "cell_type": "code",
   "execution_count": 29,
   "id": "e692c98b-c633-476a-9ed6-46000ca3bb83",
   "metadata": {
    "tags": []
   },
   "outputs": [
    {
     "data": {
      "text/html": [
       "<div>\n",
       "<style scoped>\n",
       "    .dataframe tbody tr th:only-of-type {\n",
       "        vertical-align: middle;\n",
       "    }\n",
       "\n",
       "    .dataframe tbody tr th {\n",
       "        vertical-align: top;\n",
       "    }\n",
       "\n",
       "    .dataframe thead th {\n",
       "        text-align: right;\n",
       "    }\n",
       "</style>\n",
       "<table border=\"1\" class=\"dataframe\">\n",
       "  <thead>\n",
       "    <tr style=\"text-align: right;\">\n",
       "      <th></th>\n",
       "      <th>tipo</th>\n",
       "      <th>nome</th>\n",
       "      <th>alpha</th>\n",
       "      <th>CL</th>\n",
       "      <th>CD</th>\n",
       "      <th>CDp</th>\n",
       "      <th>CM</th>\n",
       "      <th>Top_Xtr</th>\n",
       "      <th>Bot_Xtr</th>\n",
       "    </tr>\n",
       "  </thead>\n",
       "  <tbody>\n",
       "    <tr>\n",
       "      <th>160</th>\n",
       "      <td>empenagem</td>\n",
       "      <td>naca 0012</td>\n",
       "      <td>-5.00</td>\n",
       "      <td>-0.6274</td>\n",
       "      <td>0.01036</td>\n",
       "      <td>0.00414</td>\n",
       "      <td>0.0125</td>\n",
       "      <td>0.9985</td>\n",
       "      <td>0.1775</td>\n",
       "    </tr>\n",
       "    <tr>\n",
       "      <th>0</th>\n",
       "      <td>empenagem</td>\n",
       "      <td>naca 009</td>\n",
       "      <td>-5.00</td>\n",
       "      <td>-0.6239</td>\n",
       "      <td>0.01121</td>\n",
       "      <td>0.00461</td>\n",
       "      <td>0.0144</td>\n",
       "      <td>1.0000</td>\n",
       "      <td>0.0637</td>\n",
       "    </tr>\n",
       "    <tr>\n",
       "      <th>1</th>\n",
       "      <td>empenagem</td>\n",
       "      <td>naca 009</td>\n",
       "      <td>-4.75</td>\n",
       "      <td>-0.6024</td>\n",
       "      <td>0.01098</td>\n",
       "      <td>0.00432</td>\n",
       "      <td>0.0156</td>\n",
       "      <td>1.0000</td>\n",
       "      <td>0.0675</td>\n",
       "    </tr>\n",
       "    <tr>\n",
       "      <th>161</th>\n",
       "      <td>empenagem</td>\n",
       "      <td>naca 0012</td>\n",
       "      <td>-4.75</td>\n",
       "      <td>-0.5903</td>\n",
       "      <td>0.01000</td>\n",
       "      <td>0.00393</td>\n",
       "      <td>0.0102</td>\n",
       "      <td>0.9957</td>\n",
       "      <td>0.2096</td>\n",
       "    </tr>\n",
       "    <tr>\n",
       "      <th>78</th>\n",
       "      <td>empenagem</td>\n",
       "      <td>naca 0010</td>\n",
       "      <td>-5.00</td>\n",
       "      <td>-0.5901</td>\n",
       "      <td>0.01084</td>\n",
       "      <td>0.00410</td>\n",
       "      <td>0.0066</td>\n",
       "      <td>1.0000</td>\n",
       "      <td>0.0677</td>\n",
       "    </tr>\n",
       "    <tr>\n",
       "      <th>...</th>\n",
       "      <td>...</td>\n",
       "      <td>...</td>\n",
       "      <td>...</td>\n",
       "      <td>...</td>\n",
       "      <td>...</td>\n",
       "      <td>...</td>\n",
       "      <td>...</td>\n",
       "      <td>...</td>\n",
       "      <td>...</td>\n",
       "    </tr>\n",
       "    <tr>\n",
       "      <th>236</th>\n",
       "      <td>empenagem</td>\n",
       "      <td>naca 0012</td>\n",
       "      <td>14.00</td>\n",
       "      <td>1.2302</td>\n",
       "      <td>0.03761</td>\n",
       "      <td>0.03239</td>\n",
       "      <td>0.0341</td>\n",
       "      <td>0.0218</td>\n",
       "      <td>1.0000</td>\n",
       "    </tr>\n",
       "    <tr>\n",
       "      <th>240</th>\n",
       "      <td>empenagem</td>\n",
       "      <td>naca 0012</td>\n",
       "      <td>15.00</td>\n",
       "      <td>1.2327</td>\n",
       "      <td>0.04811</td>\n",
       "      <td>0.04324</td>\n",
       "      <td>0.0336</td>\n",
       "      <td>0.0206</td>\n",
       "      <td>1.0000</td>\n",
       "    </tr>\n",
       "    <tr>\n",
       "      <th>237</th>\n",
       "      <td>empenagem</td>\n",
       "      <td>naca 0012</td>\n",
       "      <td>14.25</td>\n",
       "      <td>1.2337</td>\n",
       "      <td>0.03973</td>\n",
       "      <td>0.03459</td>\n",
       "      <td>0.0343</td>\n",
       "      <td>0.0215</td>\n",
       "      <td>1.0000</td>\n",
       "    </tr>\n",
       "    <tr>\n",
       "      <th>238</th>\n",
       "      <td>empenagem</td>\n",
       "      <td>naca 0012</td>\n",
       "      <td>14.50</td>\n",
       "      <td>1.2360</td>\n",
       "      <td>0.04209</td>\n",
       "      <td>0.03703</td>\n",
       "      <td>0.0343</td>\n",
       "      <td>0.0212</td>\n",
       "      <td>1.0000</td>\n",
       "    </tr>\n",
       "    <tr>\n",
       "      <th>239</th>\n",
       "      <td>empenagem</td>\n",
       "      <td>naca 0012</td>\n",
       "      <td>14.75</td>\n",
       "      <td>1.2363</td>\n",
       "      <td>0.04481</td>\n",
       "      <td>0.03983</td>\n",
       "      <td>0.0341</td>\n",
       "      <td>0.0209</td>\n",
       "      <td>1.0000</td>\n",
       "    </tr>\n",
       "  </tbody>\n",
       "</table>\n",
       "<p>253 rows × 9 columns</p>\n",
       "</div>"
      ],
      "text/plain": [
       "          tipo       nome  alpha      CL       CD      CDp      CM  Top_Xtr  \\\n",
       "160  empenagem  naca 0012  -5.00 -0.6274  0.01036  0.00414  0.0125   0.9985   \n",
       "0    empenagem   naca 009  -5.00 -0.6239  0.01121  0.00461  0.0144   1.0000   \n",
       "1    empenagem   naca 009  -4.75 -0.6024  0.01098  0.00432  0.0156   1.0000   \n",
       "161  empenagem  naca 0012  -4.75 -0.5903  0.01000  0.00393  0.0102   0.9957   \n",
       "78   empenagem  naca 0010  -5.00 -0.5901  0.01084  0.00410  0.0066   1.0000   \n",
       "..         ...        ...    ...     ...      ...      ...     ...      ...   \n",
       "236  empenagem  naca 0012  14.00  1.2302  0.03761  0.03239  0.0341   0.0218   \n",
       "240  empenagem  naca 0012  15.00  1.2327  0.04811  0.04324  0.0336   0.0206   \n",
       "237  empenagem  naca 0012  14.25  1.2337  0.03973  0.03459  0.0343   0.0215   \n",
       "238  empenagem  naca 0012  14.50  1.2360  0.04209  0.03703  0.0343   0.0212   \n",
       "239  empenagem  naca 0012  14.75  1.2363  0.04481  0.03983  0.0341   0.0209   \n",
       "\n",
       "     Bot_Xtr  \n",
       "160   0.1775  \n",
       "0     0.0637  \n",
       "1     0.0675  \n",
       "161   0.2096  \n",
       "78    0.0677  \n",
       "..       ...  \n",
       "236   1.0000  \n",
       "240   1.0000  \n",
       "237   1.0000  \n",
       "238   1.0000  \n",
       "239   1.0000  \n",
       "\n",
       "[253 rows x 9 columns]"
      ]
     },
     "execution_count": 29,
     "metadata": {},
     "output_type": "execute_result"
    }
   ],
   "source": [
    "dataframe_empenagens"
   ]
  },
  {
   "cell_type": "code",
   "execution_count": 30,
   "id": "a4a618bf-4ddf-4125-b21d-4d01d1b1573b",
   "metadata": {
    "tags": []
   },
   "outputs": [
    {
     "data": {
      "text/html": [
       "<div>\n",
       "<style scoped>\n",
       "    .dataframe tbody tr th:only-of-type {\n",
       "        vertical-align: middle;\n",
       "    }\n",
       "\n",
       "    .dataframe tbody tr th {\n",
       "        vertical-align: top;\n",
       "    }\n",
       "\n",
       "    .dataframe thead th {\n",
       "        text-align: right;\n",
       "    }\n",
       "</style>\n",
       "<table border=\"1\" class=\"dataframe\">\n",
       "  <thead>\n",
       "    <tr style=\"text-align: right;\">\n",
       "      <th></th>\n",
       "      <th>tipo</th>\n",
       "      <th>nome</th>\n",
       "      <th>alpha</th>\n",
       "      <th>CL</th>\n",
       "      <th>CD</th>\n",
       "      <th>CDp</th>\n",
       "      <th>CM</th>\n",
       "      <th>Top_Xtr</th>\n",
       "      <th>Bot_Xtr</th>\n",
       "      <th>eficiencia_CL_CD</th>\n",
       "    </tr>\n",
       "  </thead>\n",
       "  <tbody>\n",
       "    <tr>\n",
       "      <th>226</th>\n",
       "      <td>asa</td>\n",
       "      <td>eppler 423</td>\n",
       "      <td>5.50</td>\n",
       "      <td>1.6587</td>\n",
       "      <td>0.01344</td>\n",
       "      <td>0.00757</td>\n",
       "      <td>-0.2279</td>\n",
       "      <td>0.5282</td>\n",
       "      <td>1.0000</td>\n",
       "      <td>123.415179</td>\n",
       "    </tr>\n",
       "    <tr>\n",
       "      <th>225</th>\n",
       "      <td>asa</td>\n",
       "      <td>eppler 423</td>\n",
       "      <td>5.25</td>\n",
       "      <td>1.6339</td>\n",
       "      <td>0.01324</td>\n",
       "      <td>0.00743</td>\n",
       "      <td>-0.2283</td>\n",
       "      <td>0.5319</td>\n",
       "      <td>1.0000</td>\n",
       "      <td>123.406344</td>\n",
       "    </tr>\n",
       "    <tr>\n",
       "      <th>227</th>\n",
       "      <td>asa</td>\n",
       "      <td>eppler 423</td>\n",
       "      <td>5.75</td>\n",
       "      <td>1.6786</td>\n",
       "      <td>0.01363</td>\n",
       "      <td>0.00779</td>\n",
       "      <td>-0.2265</td>\n",
       "      <td>0.5247</td>\n",
       "      <td>1.0000</td>\n",
       "      <td>123.154806</td>\n",
       "    </tr>\n",
       "    <tr>\n",
       "      <th>224</th>\n",
       "      <td>asa</td>\n",
       "      <td>eppler 423</td>\n",
       "      <td>5.00</td>\n",
       "      <td>1.6130</td>\n",
       "      <td>0.01310</td>\n",
       "      <td>0.00731</td>\n",
       "      <td>-0.2296</td>\n",
       "      <td>0.5354</td>\n",
       "      <td>1.0000</td>\n",
       "      <td>123.129771</td>\n",
       "    </tr>\n",
       "    <tr>\n",
       "      <th>228</th>\n",
       "      <td>asa</td>\n",
       "      <td>eppler 423</td>\n",
       "      <td>6.00</td>\n",
       "      <td>1.6956</td>\n",
       "      <td>0.01378</td>\n",
       "      <td>0.00798</td>\n",
       "      <td>-0.2245</td>\n",
       "      <td>0.5208</td>\n",
       "      <td>1.0000</td>\n",
       "      <td>123.047896</td>\n",
       "    </tr>\n",
       "    <tr>\n",
       "      <th>...</th>\n",
       "      <td>...</td>\n",
       "      <td>...</td>\n",
       "      <td>...</td>\n",
       "      <td>...</td>\n",
       "      <td>...</td>\n",
       "      <td>...</td>\n",
       "      <td>...</td>\n",
       "      <td>...</td>\n",
       "      <td>...</td>\n",
       "      <td>...</td>\n",
       "    </tr>\n",
       "    <tr>\n",
       "      <th>3</th>\n",
       "      <td>asa</td>\n",
       "      <td>selig 1223 rtl</td>\n",
       "      <td>-4.25</td>\n",
       "      <td>0.2682</td>\n",
       "      <td>0.05885</td>\n",
       "      <td>0.05413</td>\n",
       "      <td>-0.1135</td>\n",
       "      <td>0.3891</td>\n",
       "      <td>0.0262</td>\n",
       "      <td>4.557349</td>\n",
       "    </tr>\n",
       "    <tr>\n",
       "      <th>2</th>\n",
       "      <td>asa</td>\n",
       "      <td>selig 1223 rtl</td>\n",
       "      <td>-4.50</td>\n",
       "      <td>0.2595</td>\n",
       "      <td>0.06053</td>\n",
       "      <td>0.05581</td>\n",
       "      <td>-0.1137</td>\n",
       "      <td>0.3937</td>\n",
       "      <td>0.0255</td>\n",
       "      <td>4.287130</td>\n",
       "    </tr>\n",
       "    <tr>\n",
       "      <th>1</th>\n",
       "      <td>asa</td>\n",
       "      <td>selig 1223 rtl</td>\n",
       "      <td>-4.75</td>\n",
       "      <td>0.2515</td>\n",
       "      <td>0.06208</td>\n",
       "      <td>0.05735</td>\n",
       "      <td>-0.1143</td>\n",
       "      <td>0.3984</td>\n",
       "      <td>0.0252</td>\n",
       "      <td>4.051224</td>\n",
       "    </tr>\n",
       "    <tr>\n",
       "      <th>98</th>\n",
       "      <td>asa</td>\n",
       "      <td>selig 1223</td>\n",
       "      <td>-5.00</td>\n",
       "      <td>0.2652</td>\n",
       "      <td>0.06686</td>\n",
       "      <td>0.06438</td>\n",
       "      <td>-0.1153</td>\n",
       "      <td>0.8393</td>\n",
       "      <td>0.0203</td>\n",
       "      <td>3.966497</td>\n",
       "    </tr>\n",
       "    <tr>\n",
       "      <th>0</th>\n",
       "      <td>asa</td>\n",
       "      <td>selig 1223 rtl</td>\n",
       "      <td>-5.00</td>\n",
       "      <td>0.2448</td>\n",
       "      <td>0.06318</td>\n",
       "      <td>0.05848</td>\n",
       "      <td>-0.1163</td>\n",
       "      <td>0.4053</td>\n",
       "      <td>0.0250</td>\n",
       "      <td>3.874644</td>\n",
       "    </tr>\n",
       "  </tbody>\n",
       "</table>\n",
       "<p>356 rows × 10 columns</p>\n",
       "</div>"
      ],
      "text/plain": [
       "    tipo            nome  alpha      CL       CD      CDp      CM  Top_Xtr  \\\n",
       "226  asa      eppler 423   5.50  1.6587  0.01344  0.00757 -0.2279   0.5282   \n",
       "225  asa      eppler 423   5.25  1.6339  0.01324  0.00743 -0.2283   0.5319   \n",
       "227  asa      eppler 423   5.75  1.6786  0.01363  0.00779 -0.2265   0.5247   \n",
       "224  asa      eppler 423   5.00  1.6130  0.01310  0.00731 -0.2296   0.5354   \n",
       "228  asa      eppler 423   6.00  1.6956  0.01378  0.00798 -0.2245   0.5208   \n",
       "..   ...             ...    ...     ...      ...      ...     ...      ...   \n",
       "3    asa  selig 1223 rtl  -4.25  0.2682  0.05885  0.05413 -0.1135   0.3891   \n",
       "2    asa  selig 1223 rtl  -4.50  0.2595  0.06053  0.05581 -0.1137   0.3937   \n",
       "1    asa  selig 1223 rtl  -4.75  0.2515  0.06208  0.05735 -0.1143   0.3984   \n",
       "98   asa      selig 1223  -5.00  0.2652  0.06686  0.06438 -0.1153   0.8393   \n",
       "0    asa  selig 1223 rtl  -5.00  0.2448  0.06318  0.05848 -0.1163   0.4053   \n",
       "\n",
       "     Bot_Xtr  eficiencia_CL_CD  \n",
       "226   1.0000        123.415179  \n",
       "225   1.0000        123.406344  \n",
       "227   1.0000        123.154806  \n",
       "224   1.0000        123.129771  \n",
       "228   1.0000        123.047896  \n",
       "..       ...               ...  \n",
       "3     0.0262          4.557349  \n",
       "2     0.0255          4.287130  \n",
       "1     0.0252          4.051224  \n",
       "98    0.0203          3.966497  \n",
       "0     0.0250          3.874644  \n",
       "\n",
       "[356 rows x 10 columns]"
      ]
     },
     "execution_count": 30,
     "metadata": {},
     "output_type": "execute_result"
    }
   ],
   "source": [
    "dataframe_asas"
   ]
  },
  {
   "cell_type": "code",
   "execution_count": null,
   "id": "e4cd0610-2888-4f47-bf45-718f59286a48",
   "metadata": {},
   "outputs": [],
   "source": []
  }
 ],
 "metadata": {
  "kernelspec": {
   "display_name": "Python 3 (ipykernel)",
   "language": "python",
   "name": "python3"
  },
  "language_info": {
   "codemirror_mode": {
    "name": "ipython",
    "version": 3
   },
   "file_extension": ".py",
   "mimetype": "text/x-python",
   "name": "python",
   "nbconvert_exporter": "python",
   "pygments_lexer": "ipython3",
   "version": "3.7.9"
  }
 },
 "nbformat": 4,
 "nbformat_minor": 5
}
